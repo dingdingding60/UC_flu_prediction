{
 "cells": [
  {
   "cell_type": "code",
   "execution_count": 2,
   "metadata": {
    "collapsed": true
   },
   "outputs": [],
   "source": [
    "import json\n",
    "import numpy as np\n",
    "import matplotlib.pyplot as plt\n",
    "import seaborn as sns\n",
    "\n",
    "from utils import load_flu, load_flu_states, load_run"
   ]
  },
  {
   "cell_type": "code",
   "execution_count": 3,
   "metadata": {
    "collapsed": true
   },
   "outputs": [],
   "source": [
    "df = load_flu_states('')"
   ]
  },
  {
   "cell_type": "code",
   "execution_count": 4,
   "metadata": {},
   "outputs": [],
   "source": [
    "with open('results/state/1/AK/forecasting_gru.json') as infile:\n",
    "    run = json.load(infile)"
   ]
  },
  {
   "cell_type": "code",
   "execution_count": 11,
   "metadata": {},
   "outputs": [],
   "source": [
    "coefs = run['coefs'][0]['pos']\n",
    "saliencymap = np.full((52, len(df.columns)), float(coefs['other']))\n",
    "for feature, val in coefs.items():\n",
    "    if feature != 'other':\n",
    "        saliencymap[int(feature[2:])-1][int(list(df.columns).index(feature[:2]))] = val"
   ]
  },
  {
   "cell_type": "code",
   "execution_count": 12,
   "metadata": {
    "collapsed": true
   },
   "outputs": [],
   "source": [
    "fig, ax = plt.subplots(1, figsize=(20, 15))\n",
    "sns.heatmap(saliencymap, ax=ax, cmap='Blues', vmin=0, vmax=1, yticklabels=[x if x % 4 == 0 else '' for x in range (1, 53)])\n",
    "plt.xticks(np.arange(len(df.columns)), df.columns, rotation='vertical')\n",
    "ax.set_title('Gradients for GRU Predictions of ILI in AK', fontsize='x-large')\n",
    "plt.tight_layout()\n",
    "plt.savefig('AK_saliency_pos.png')"
   ]
  },
  {
   "cell_type": "code",
   "execution_count": null,
   "metadata": {
    "collapsed": true
   },
   "outputs": [],
   "source": []
  }
 ],
 "metadata": {
  "kernelspec": {
   "display_name": "Python 3",
   "language": "python",
   "name": "python3"
  },
  "language_info": {
   "codemirror_mode": {
    "name": "ipython",
    "version": 3
   },
   "file_extension": ".py",
   "mimetype": "text/x-python",
   "name": "python",
   "nbconvert_exporter": "python",
   "pygments_lexer": "ipython3",
   "version": "3.6.2"
  }
 },
 "nbformat": 4,
 "nbformat_minor": 2
}
